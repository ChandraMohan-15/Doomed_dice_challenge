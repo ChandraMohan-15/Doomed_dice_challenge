{
  "nbformat": 4,
  "nbformat_minor": 0,
  "metadata": {
    "colab": {
      "provenance": []
    },
    "kernelspec": {
      "name": "python3",
      "display_name": "Python 3"
    },
    "language_info": {
      "name": "python"
    }
  },
  "cells": [
    {
      "cell_type": "code",
      "execution_count": 1,
      "metadata": {
        "colab": {
          "base_uri": "https://localhost:8080/"
        },
        "id": "D4tPlp8odzco",
        "outputId": "4b041238-ba5b-49dc-e186-18ced36dc648"
      },
      "outputs": [
        {
          "output_type": "execute_result",
          "data": {
            "text/plain": [
              "(36,\n",
              " Counter({(1, 1): 1,\n",
              "          (1, 2): 1,\n",
              "          (1, 3): 1,\n",
              "          (1, 4): 1,\n",
              "          (1, 5): 1,\n",
              "          (1, 6): 1,\n",
              "          (2, 1): 1,\n",
              "          (2, 2): 1,\n",
              "          (2, 3): 1,\n",
              "          (2, 4): 1,\n",
              "          (2, 5): 1,\n",
              "          (2, 6): 1,\n",
              "          (3, 1): 1,\n",
              "          (3, 2): 1,\n",
              "          (3, 3): 1,\n",
              "          (3, 4): 1,\n",
              "          (3, 5): 1,\n",
              "          (3, 6): 1,\n",
              "          (4, 1): 1,\n",
              "          (4, 2): 1,\n",
              "          (4, 3): 1,\n",
              "          (4, 4): 1,\n",
              "          (4, 5): 1,\n",
              "          (4, 6): 1,\n",
              "          (5, 1): 1,\n",
              "          (5, 2): 1,\n",
              "          (5, 3): 1,\n",
              "          (5, 4): 1,\n",
              "          (5, 5): 1,\n",
              "          (5, 6): 1,\n",
              "          (6, 1): 1,\n",
              "          (6, 2): 1,\n",
              "          (6, 3): 1,\n",
              "          (6, 4): 1,\n",
              "          (6, 5): 1,\n",
              "          (6, 6): 1}),\n",
              " Counter({2: 0.027777777777777776,\n",
              "          3: 0.05555555555555555,\n",
              "          4: 0.08333333333333333,\n",
              "          5: 0.1111111111111111,\n",
              "          6: 0.1388888888888889,\n",
              "          7: 0.16666666666666666,\n",
              "          8: 0.1388888888888889,\n",
              "          9: 0.1111111111111111,\n",
              "          10: 0.08333333333333333,\n",
              "          11: 0.05555555555555555,\n",
              "          12: 0.027777777777777776}))"
            ]
          },
          "metadata": {},
          "execution_count": 1
        }
      ],
      "source": [
        "# Python code for The Doomed Dice Challenge\n",
        "\n",
        "# Part A\n",
        "\n",
        "# Task 1: Total Number of Combinations\n",
        "total_combinations = 6 * 6\n",
        "\n",
        "# Task 2: Distribution of Combinations\n",
        "from collections import Counter\n",
        "\n",
        "distribution = Counter([(a, b) for a in range(1, 7) for b in range(1, 7)])\n",
        "\n",
        "# Task 3: Probability of Sums\n",
        "sum_probabilities = Counter([sum(pair) for pair in distribution])\n",
        "for sum_val in sum_probabilities:\n",
        "    sum_probabilities[sum_val] /= total_combinations\n",
        "\n",
        "# Displaying results for Part A\n",
        "total_combinations, distribution, sum_probabilities"
      ]
    }
  ]
}