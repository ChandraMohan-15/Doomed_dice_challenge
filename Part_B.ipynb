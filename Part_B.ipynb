{
  "nbformat": 4,
  "nbformat_minor": 0,
  "metadata": {
    "colab": {
      "provenance": []
    },
    "kernelspec": {
      "name": "python3",
      "display_name": "Python 3"
    },
    "language_info": {
      "name": "python"
    }
  },
  "cells": [
    {
      "cell_type": "code",
      "execution_count": 1,
      "metadata": {
        "colab": {
          "base_uri": "https://localhost:8080/"
        },
        "id": "cbJ5SKMBeIbG",
        "outputId": "c90c75d9-a776-4ecd-bcbf-2593537a2f80"
      },
      "outputs": [
        {
          "output_type": "execute_result",
          "data": {
            "text/plain": [
              "(None, None)"
            ]
          },
          "metadata": {},
          "execution_count": 1
        }
      ],
      "source": [
        "from collections import Counter\n",
        "\n",
        "def undoom_dice():\n",
        "    \"\"\"\n",
        "    This function transforms the original dice configurations into new configurations\n",
        "    for Die A and Die B. Die A is limited to no more than 4 spots on any face, and\n",
        "    Die B can have any number of spots, even more than 6.\n",
        "    The function aims to maintain the original sum probabilities.\n",
        "    \"\"\"\n",
        "    # Original Dice Configurations\n",
        "    die_a_original = list(range(1, 7))\n",
        "    die_b_original = list(range(1, 7))\n",
        "\n",
        "    # New Dice Configurations\n",
        "    die_a_new = [1, 2, 3, 4, 3, 2]  # Restrict Die A to no more than 4 spots\n",
        "    die_b_new = [1, 2, 3, 4, 5, 8]  # Adjust Die B accordingly\n",
        "\n",
        "    # Validate that the sum probabilities are maintained\n",
        "    original_sums = Counter(a + b for a in die_a_original for b in die_b_original)\n",
        "    new_sums = Counter(a + b for a in die_a_new for b in die_b_new)\n",
        "\n",
        "    # Check if the distributions are the same\n",
        "    if original_sums == new_sums:\n",
        "        return die_a_new, die_b_new\n",
        "    else:\n",
        "        return None, None  # In case the distributions do not match\n",
        "\n",
        "# Running the undoom_dice function\n",
        "undoomed_die_a, undoomed_die_b = undoom_dice()\n",
        "print(undoomed_die_a, undoomed_die_b)\n",
        "\n"
      ]
    }
  ]
}
