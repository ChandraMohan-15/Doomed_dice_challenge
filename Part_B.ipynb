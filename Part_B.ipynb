{
 "cells": [
  {
   "cell_type": "code",
   "execution_count": 1,
   "metadata": {},
   "outputs": [
    {
     "name": "stdout",
     "output_type": "stream",
     "text": [
      "No valid transformation found.\n"
     ]
    }
   ],
   "source": [
    "from collections import Counter\n",
    "from itertools import product\n",
    " \n",
    "# Function to calculate the probabilities of sums for a given set of dice\n",
    "def calculate_probabilities(dice):\n",
    "    counts = Counter(sum(roll) for roll in product(*dice))\n",
    "    total_outcomes = len(dice[0])**len(dice)\n",
    "    probabilities = {key: value / total_outcomes for key, value in counts.items()}\n",
    "    return probabilities\n",
    " \n",
    "# Function to generate all possible configurations for Die A within the given conditions\n",
    "def generate_die_A():\n",
    "    die_A = []\n",
    "    for i in range(1, 5):\n",
    "        for _ in range(6):\n",
    "            face = [i] * 6\n",
    "            die_A.append(face)\n",
    "    return die_A\n",
    "# Function to transform the dice based on given conditions\n",
    "def transform_dice(die_A, die_B):\n",
    "    original_sums = calculate_probabilities([die_A, die_B])\n",
    "    new_die_A = None\n",
    "    new_die_B = die_B[:]\n",
    "    for new_face_A in generate_die_A():\n",
    "        if max(new_face_A) > 4:\n",
    "            continue\n",
    "        new_sums = calculate_probabilities([new_face_A, die_B])\n",
    "        if original_sums == new_sums:\n",
    "            new_die_A = new_face_A\n",
    "            break\n",
    "    return new_die_A, new_die_B\n",
    " \n",
    "# Example dice configurations\n",
    "original_die_A = [1, 2, 3, 4, 5, 6]\n",
    "original_die_B = [1, 2, 3, 4, 5, 6]\n",
    "# Transform the dice based on the conditions\n",
    "new_die_A, new_die_B = transform_dice(original_die_A, original_die_B)\n",
    " \n",
    "# Display the results\n",
    "if new_die_A is not None:\n",
    "    print(\"New Die A:\", new_die_A)\n",
    "    print(\"New Die B:\", new_die_B)\n",
    "else:\n",
    "    print(\"No valid transformation found.\")"
   ]
  },
  {
   "cell_type": "markdown",
   "metadata": {},
   "source": [
    "The result \"No valid transformation found\" indicates that the function undoom_dice was unable to find new configurations for Die A and Die B that maintain the same sum probabilities as the original dice within the specified constraints and search range."
   ]
  }
 ],
 "metadata": {
  "kernelspec": {
   "display_name": "Python 3",
   "language": "python",
   "name": "python3"
  },
  "language_info": {
   "codemirror_mode": {
    "name": "ipython",
    "version": 3
   },
   "file_extension": ".py",
   "mimetype": "text/x-python",
   "name": "python",
   "nbconvert_exporter": "python",
   "pygments_lexer": "ipython3",
   "version": "3.6.5"
  }
 },
 "nbformat": 4,
 "nbformat_minor": 2
}
